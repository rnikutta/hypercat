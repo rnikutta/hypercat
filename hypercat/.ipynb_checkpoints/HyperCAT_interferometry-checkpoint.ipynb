{
 "cells": [
  {
   "cell_type": "markdown",
   "metadata": {},
   "source": [
    "# HyperCAT  Interferometry module"
   ]
  },
  {
   "cell_type": "markdown",
   "metadata": {},
   "source": [
    "This notebook shows examples on how to use the interferometry module of HyperCAT. You will find here the general worksflow to obtain simulated interferomeric observations for a given AGN torus and uv plane defined byt he user."
   ]
  },
  {
   "cell_type": "code",
   "execution_count": 13,
   "metadata": {},
   "outputs": [],
   "source": [
    "# IMPORTS\n",
    "import hypercat as hc\n",
    "import interferometry as inter\n",
    "import numpy as np\n",
    "import matplotlib\n",
    "%matplotlib inline\n",
    "import ioops as io"
   ]
  },
  {
   "cell_type": "code",
   "execution_count": null,
   "metadata": {
    "collapsed": true
   },
   "outputs": [],
   "source": [
    "#For more information about to select subcubes and make a source check the hypercat_workflow.ipynb notebook.\n",
    "\n",
    "# Load a sub-cube into RAM\n",
    "hdf5file = '/Volumes/Seagate Backup Plus Drive/hypercat/hypercat_20170109.hdf5'\n",
    "cube = hc.ModelCube(hdffile=hdf5file,hypercube='imgdata',subcube_selection='../examples/democube.json')\n",
    "\n",
    "#Make a source\n",
    "ngc1068 = hc.Source(cube,luminosity='2e45 erg/s',distance='14 Mpc',name='ngc1068',pa='42 deg')  \n",
    "\n",
    "#Select a clumpy torus image and wavelength. Assuming a flux density of 2500 mJy at 8.5 microns.\n",
    "i = 88\n",
    "N = 5\n",
    "q = 0\n",
    "wave = 8.0\n",
    "theta = (i,N,q,wave)\n",
    "sky = ngc1068(theta,total_flux_density='2500 mJy')"
   ]
  },
  {
   "cell_type": "code",
   "execution_count": 8,
   "metadata": {},
   "outputs": [],
   "source": [
    "#Create 2D FFT of clumpy torus image\n",
    "ori_fft = ima2fft(ori)\n",
    "#Obtain pixel scale\n",
    "fftscale = fft_pxscale(ori)\n",
    "\n",
    "#Obtain uv points\n",
    "filename = '../examples/Circinus_Burtscher_2013.oifits' \n",
    "uv = uvload(filename)\n",
    "#obtain baseline and position angles in 1D\n",
    "BL_Phi = baseline_phase_1D(uv[0],uv[1])\n",
    "#Obtain uv plane in pixels\n",
    "uv_px = uvfreq2uvpixel(uv[0],uv[1],fftscale)\n",
    "\n",
    "#Obtain correlated flux 2D\n",
    "corrflux2D = correlatedflux2D(ori_fft,u_px,v_px,BL_Phi[0],BL_Phi[1])\n",
    "#Obtain correlated flux 1D\n",
    "corrflux1D = correlatedflux1D(corrflux2D[0])"
   ]
  },
  {
   "cell_type": "code",
   "execution_count": 11,
   "metadata": {},
   "outputs": [
    {
     "ename": "SyntaxError",
     "evalue": "invalid syntax (<ipython-input-11-a7633e0d60f7>, line 1)",
     "output_type": "error",
     "traceback": [
      "\u001b[0;36m  File \u001b[0;32m\"<ipython-input-11-a7633e0d60f7>\"\u001b[0;36m, line \u001b[0;32m1\u001b[0m\n\u001b[0;31m    inter.\u001b[0m\n\u001b[0m          ^\u001b[0m\n\u001b[0;31mSyntaxError\u001b[0m\u001b[0;31m:\u001b[0m invalid syntax\n"
     ]
    }
   ],
   "source": [
    "inter.np"
   ]
  },
  {
   "cell_type": "code",
   "execution_count": 38,
   "metadata": {},
   "outputs": [],
   "source": [
    "def uvload(filename):\n",
    "    ff = io.FitsFile(filename)\n",
    "\n",
    "    #uv points\n",
    "    v = ff.getdata(4,'vcoord')\n",
    "    u = ff.getdata(4,'ucoord')\n",
    "    # create the center-symmetric points\n",
    "    u_rev=-u\n",
    "    v_rev=-v\n",
    "    \n",
    "    #combine the data set of uv points\n",
    "    u = np.concatenate([u_rev,u])\n",
    "    v = np.concatenate([v_rev,v])\n",
    "    \n",
    "    return u,v\n",
    "\n",
    "def baseline_phase_1D(u,v):\n",
    "    #Baseline and phases in 1D\n",
    "    BL = np.sqrt(u**2+v**2)\n",
    "    Phi = np.rad2deg(np.arctan(u/v))\n",
    "    \n",
    "    return BL, Phi\n",
    "\n",
    "\n",
    "\n",
    "def uvfreq2uvpixel(u,v,fftscale):\n",
    "    ### uv plane from m to px given the above estimated pixel scale per meter\n",
    "    u_px = u/fftscale\n",
    "    v_px = v/fftscale\n",
    "    \n",
    "    return u_px, v_px"
   ]
  },
  {
   "cell_type": "code",
   "execution_count": 41,
   "metadata": {},
   "outputs": [],
   "source": [
    "filename = '../examples/Circinus_Burtscher_2013.oifits' \n",
    "uv = uvload(filename)\n",
    "BL_Phi = baseline_phase_1D(uv[0],uv[1])\n"
   ]
  },
  {
   "cell_type": "code",
   "execution_count": 22,
   "metadata": {},
   "outputs": [],
   "source": [
    "f = '../examples/Circinus_Burtscher_2013.oifits'\n",
    "ff = fits.open(f)"
   ]
  },
  {
   "cell_type": "code",
   "execution_count": 32,
   "metadata": {},
   "outputs": [
    {
     "data": {
      "text/plain": [
       "array([-14.36642265, -29.11819649, -15.95842075,  34.63849258,\n",
       "        41.06572342,  58.06918335,  53.64641571,  47.40750885,\n",
       "         9.68784142,  25.28550148,  33.43816757,  31.51840591,\n",
       "        28.02976418,  22.91212654,   4.04968882,   6.80267477,\n",
       "        12.74985504,  14.39439678,  15.21711254,  14.30192757,\n",
       "        10.59840679,   9.9192009 ,   4.47123003,   9.22733784,\n",
       "        12.21317959,  14.37120724,  15.23608589,  14.58623314])"
      ]
     },
     "execution_count": 32,
     "metadata": {},
     "output_type": "execute_result"
    }
   ],
   "source": [
    "ff['OI_VIS'].data['UCOORD']"
   ]
  },
  {
   "cell_type": "code",
   "execution_count": 21,
   "metadata": {
    "collapsed": true
   },
   "outputs": [],
   "source": [
    "import astropy.io.fits as fits"
   ]
  },
  {
   "cell_type": "code",
   "execution_count": null,
   "metadata": {
    "collapsed": true
   },
   "outputs": [],
   "source": []
  }
 ],
 "metadata": {
  "kernelspec": {
   "display_name": "Python 2",
   "language": "python",
   "name": "python2"
  },
  "language_info": {
   "codemirror_mode": {
    "name": "ipython",
    "version": 2
   },
   "file_extension": ".py",
   "mimetype": "text/x-python",
   "name": "python",
   "nbconvert_exporter": "python",
   "pygments_lexer": "ipython2",
   "version": "2.7.12"
  }
 },
 "nbformat": 4,
 "nbformat_minor": 2
}
