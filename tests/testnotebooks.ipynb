{
 "cells": [
  {
   "cell_type": "code",
   "execution_count": null,
   "metadata": {},
   "outputs": [],
   "source": [
    "__version__ = '20210614'\n",
    "__author__ = 'Robert Nikutta <robert.nikutta@gmail.com>'"
   ]
  },
  {
   "cell_type": "markdown",
   "metadata": {},
   "source": [
    "# Automatic notebook testing\n",
    "### Run the cells in this notebook in order.\n",
    "\n",
    "Note: if you wish to run any Python code as the first cell of any tested notebooks, please edit the file `prerun.py` in this directory. Any not commented-out code there will be injected as the first cell to any notebooks tested by `testnotebooks`."
   ]
  },
  {
   "cell_type": "markdown",
   "metadata": {},
   "source": [
    "## Imports & setup"
   ]
  },
  {
   "cell_type": "code",
   "execution_count": null,
   "metadata": {},
   "outputs": [],
   "source": [
    "from testnotebooks import *"
   ]
  },
  {
   "cell_type": "markdown",
   "metadata": {},
   "source": [
    "## Set up which notebooks to test, and which to exclude from testing"
   ]
  },
  {
   "cell_type": "code",
   "execution_count": null,
   "metadata": {},
   "outputs": [],
   "source": [
    "# List all paths with notebooks to test.\n",
    "# Paths can be single notebooks, directories, or a mix.\n",
    "# If single ipynb or single directory, paths can be a string.\n",
    "# If multiple elements, make it a sequence of strings.\n",
    "#\n",
    "# Examples:\n",
    "#\n",
    "#paths = ('../examples/','../examples2/')  # test notebooks in these two directories; Note: this is a tuple of paths\n",
    "#paths = ('../examples/01-hypercat-basics.ipynb','../examples2/')  # test one NB in examples/ dir, and all NBs in examples2/ dir\n",
    "#paths = '../' # test all notebooks in ..examples/ dir that are not excluded below\n",
    "paths = '../examples/'\n",
    "\n",
    "# List pattern of notebook names, and/or paths, to exclude from testing.\n",
    "# ** means \"any number of intermediate directries\"\n",
    "# * means \"any number if intermediate characters in this directory\"\n",
    "exclude = ()"
   ]
  },
  {
   "cell_type": "markdown",
   "metadata": {},
   "source": [
    "## Run the test suite\n",
    "**This can take a while!**"
   ]
  },
  {
   "cell_type": "code",
   "execution_count": null,
   "metadata": {},
   "outputs": [],
   "source": [
    "%%time\n",
    "testresults = run(paths=paths,exclude=exclude)"
   ]
  },
  {
   "cell_type": "markdown",
   "metadata": {},
   "source": [
    "## Summarize the test results"
   ]
  },
  {
   "cell_type": "code",
   "execution_count": null,
   "metadata": {},
   "outputs": [],
   "source": [
    "testresults"
   ]
  }
 ],
 "metadata": {
  "kernelspec": {
   "display_name": "Python 3",
   "language": "python",
   "name": "python3"
  },
  "language_info": {
   "codemirror_mode": {
    "name": "ipython",
    "version": 3
   },
   "file_extension": ".py",
   "mimetype": "text/x-python",
   "name": "python",
   "nbconvert_exporter": "python",
   "pygments_lexer": "ipython3",
   "version": "3.7.2"
  }
 },
 "nbformat": 4,
 "nbformat_minor": 4
}
