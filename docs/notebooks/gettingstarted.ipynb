{
 "cells": [
  {
   "cell_type": "code",
   "execution_count": 4,
   "metadata": {},
   "outputs": [],
   "source": [
    "__version__ = '20180806'"
   ]
  },
  {
   "cell_type": "markdown",
   "metadata": {},
   "source": [
    "# Getting started Hypercat"
   ]
  },
  {
   "cell_type": "markdown",
   "metadata": {},
   "source": [
    "## Table of contents\n",
    "- Install Python environment\n",
    "- get the Hypercat code from github\n",
    "- download and unpack hypercube of models"
   ]
  },
  {
   "cell_type": "markdown",
   "metadata": {},
   "source": [
    "## Check your current Python environment"
   ]
  },
  {
   "cell_type": "markdown",
   "metadata": {},
   "source": [
    "Hypercat requires the Python environment: Python 3.X.  \n",
    "First let's check your version of Python,"
   ]
  },
  {
   "cell_type": "code",
   "execution_count": 8,
   "metadata": {},
   "outputs": [
    {
     "name": "stdout",
     "output_type": "stream",
     "text": [
      "Python 3.6.5 :: Anaconda, Inc.\r\n"
     ]
    }
   ],
   "source": [
    "!python --version"
   ]
  },
  {
   "cell_type": "markdown",
   "metadata": {},
   "source": [
    "If the result is Python 3.X, please move to the **Install the necessary python environments** Section, if not, let's move to **Install Python 3.X** Section and prepare the Python 3 environment."
   ]
  },
  {
   "cell_type": "markdown",
   "metadata": {},
   "source": [
    "## Install Python 3"
   ]
  },
  {
   "cell_type": "markdown",
   "metadata": {},
   "source": [
    "There are several ways to install python environment. Our recommendation is using Conda. [The official website](https://conda.io/docs/user-guide/tasks/manage-python.html) describes Conda like this:\n",
    ">Conda treats Python the same as any other package, so it is easy to manage and update multiple installations."
   ]
  },
  {
   "cell_type": "markdown",
   "metadata": {},
   "source": [
    "Please follow the installation guide of Python 3.X at [Anaconda](https://www.anaconda.com/download) or [Miniconda](https://conda.io/miniconda.html) based on your preference. Please check the comparison of Anaconda and Miniconda [here](https://conda.io/docs/user-guide/install/download.html)."
   ]
  },
  {
   "cell_type": "markdown",
   "metadata": {},
   "source": [
    "After the installation, please check the test your installation. In your Terminal, run the command"
   ]
  },
  {
   "cell_type": "markdown",
   "metadata": {},
   "source": [
    "```\n",
    "conda env list\n",
    "\n",
    "# conda environments:\n",
    "#\n",
    "base                  *  /Users/motigomeman/miniconda3\n",
    "```"
   ]
  },
  {
   "cell_type": "code",
   "execution_count": 11,
   "metadata": {
    "scrolled": true
   },
   "outputs": [
    {
     "name": "stdout",
     "output_type": "stream",
     "text": [
      "# packages in environment at /Users/motigomeman/miniconda3:\r\n",
      "#\r\n",
      "# Name                    Version                   Build  Channel\r\n",
      "appnope                   0.1.0            py36hf537a9a_0  \r\n",
      "asn1crypto                0.24.0                   py36_0  \r\n",
      "astropy                   3.0.4            py36h1de35cc_0  \r\n",
      "atomicwrites              1.1.5                    py36_0  \r\n",
      "attrs                     18.1.0                   py36_0  \r\n",
      "backcall                  0.1.0                    py36_0  \r\n",
      "blas                      1.0                         mkl  \r\n",
      "bleach                    2.1.3                    py36_0  \r\n",
      "ca-certificates           2018.03.07                    0  \r\n",
      "certifi                   2018.4.16                py36_0  \r\n",
      "cffi                      1.11.5           py36h342bebf_0  \r\n",
      "chardet                   3.0.4            py36h96c241c_1  \r\n",
      "cloudpickle               0.5.3                    py36_0  \r\n",
      "conda                     4.5.9                    py36_0  \r\n",
      "conda-env                 2.6.0                h36134e3_0  \r\n",
      "cryptography              2.2.2            py36h1de35cc_0  \r\n",
      "cycler                    0.10.0           py36hfc81398_0  \r\n",
      "dask-core                 0.18.2                   py36_0  \r\n",
      "dbus                      1.13.2               h760590f_1  \r\n",
      "decorator                 4.3.0                    py36_0  \r\n",
      "entrypoints               0.2.3                    py36_2  \r\n",
      "expat                     2.2.5                hb8e80ba_0  \r\n",
      "freetype                  2.9.1                hb4e5f40_0  \r\n",
      "gettext                   0.19.8.1             h15daf44_3  \r\n",
      "glib                      2.56.1               h35bc53a_0  \r\n",
      "h5py                      2.8.0            py36h3c9e6ae_0  \r\n",
      "hdf5                      1.10.2               hfa1e0ec_1  \r\n",
      "html5lib                  1.0.1                    py36_0  \r\n",
      "icu                       58.2                 h4b95b61_1  \r\n",
      "idna                      2.6              py36h8628d0a_1  \r\n",
      "imageio                   2.3.0                    py36_0  \r\n",
      "intel-openmp              2018.0.3                      0  \r\n",
      "ipykernel                 4.8.2                    py36_0  \r\n",
      "ipython                   6.5.0                    py36_0  \r\n",
      "ipython_genutils          0.2.0            py36h241746c_0  \r\n",
      "ipywidgets                7.3.1                    py36_0  \r\n",
      "jedi                      0.12.1                   py36_0  \r\n",
      "jinja2                    2.10                     py36_0  \r\n",
      "jpeg                      9b                   he5867d9_2  \r\n",
      "jsonschema                2.6.0            py36hb385e00_0  \r\n",
      "jupyter                   1.0.0                    py36_4  \r\n",
      "jupyter_client            5.2.3                    py36_0  \r\n",
      "jupyter_console           5.2.0                    py36_1  \r\n",
      "jupyter_core              4.4.0                    py36_0  \r\n",
      "kiwisolver                1.0.1            py36h0a44026_0  \r\n",
      "libcxx                    4.0.1                h579ed51_0  \r\n",
      "libcxxabi                 4.0.1                hebd6815_0  \r\n",
      "libedit                   3.1.20170329         hb402a30_2  \r\n",
      "libffi                    3.2.1                h475c297_4  \r\n",
      "libgfortran               3.0.1                h93005f0_2  \r\n",
      "libiconv                  1.15                 hdd342a3_7  \r\n",
      "libpng                    1.6.34               he12f830_0  \r\n",
      "libsodium                 1.0.16               h3efe00b_0  \r\n",
      "libtiff                   4.0.9                hcb84e12_1  \r\n",
      "markupsafe                1.0              py36h1de35cc_1  \r\n",
      "matplotlib                2.2.2            py36hbf02d85_2  \r\n",
      "mistune                   0.8.3            py36h1de35cc_1  \r\n",
      "mkl                       2018.0.3                      1  \r\n",
      "mkl_fft                   1.0.4            py36h5d10147_1  \r\n",
      "mkl_random                1.0.1            py36h5d10147_1  \r\n",
      "more-itertools            4.2.0                    py36_0  \r\n",
      "nbconvert                 5.3.1                    py36_0  \r\n",
      "nbformat                  4.4.0            py36h827af21_0  \r\n",
      "ncurses                   6.1                  h0a44026_0  \r\n",
      "networkx                  2.1                      py36_0  \r",
      "\r\n",
      "notebook                  5.5.0                    py36_0  \r\n",
      "numpy                     1.15.0           py36h648b28d_0  \r\n",
      "numpy-base                1.15.0           py36h8a80b8c_0  \r\n",
      "olefile                   0.45.1                   py36_0  \r\n",
      "openssl                   1.0.2o               h1de35cc_1  \r\n",
      "pandas                    0.23.3           py36h6440ff4_0  \r\n",
      "pandoc                    2.2.1                h1a437c5_0  \r\n",
      "pandocfilters             1.4.2                    py36_1  \r\n",
      "parso                     0.3.1                    py36_0  \r\n",
      "pcre                      8.42                 h378b8a2_0  \r\n",
      "pexpect                   4.6.0                    py36_0  \r\n",
      "pickleshare               0.7.4            py36hf512f8e_0  \r\n",
      "pillow                    5.2.0            py36hb68e598_0  \r\n",
      "pip                       10.0.1                   py36_0  \r\n",
      "pluggy                    0.6.0                    py36_0  \r\n",
      "prompt_toolkit            1.0.15           py36haeda067_0  \r\n",
      "psutil                    5.4.6            py36h1de35cc_0  \r\n",
      "ptyprocess                0.6.0                    py36_0  \r\n",
      "py                        1.5.4                    py36_0  \r\n",
      "pycosat                   0.6.3            py36hee92d8f_0  \r\n",
      "pycparser                 2.18             py36h724b2fc_1  \r\n",
      "pygments                  2.2.0            py36h240cd3f_0  \r\n",
      "pyopenssl                 18.0.0                   py36_0  \r\n",
      "pyparsing                 2.2.0                    py36_1  \r\n",
      "pyqt                      5.9.2            py36h655552a_0  \r\n",
      "pysocks                   1.6.8                    py36_0  \r\n",
      "pytest                    3.6.4                    py36_0  \r\n",
      "pytest-arraydiff          0.2              py36h39e3cac_0  \r\n",
      "pytest-astropy            0.4.0                    py36_0  \r\n",
      "pytest-doctestplus        0.1.3                    py36_0  \r\n",
      "pytest-openfiles          0.3.0                    py36_0  \r\n",
      "pytest-remotedata         0.3.0                    py36_0  \r\n",
      "python                    3.6.5                hc167b69_1  \r\n",
      "python-dateutil           2.7.3                    py36_0  \r\n",
      "python.app                2                        py36_8  \r\n",
      "pytz                      2018.5                   py36_0  \r\n",
      "pywavelets                0.5.2            py36h1d22016_2  \r\n",
      "pyzmq                     17.0.0           py36h1de35cc_3  \r\n",
      "qt                        5.9.6                h74ce4d9_0  \r\n",
      "qtconsole                 4.3.1            py36hd96c0ff_0  \r\n",
      "readline                  7.0                  hc1231fa_4  \r\n",
      "requests                  2.18.4           py36h4516966_1  \r\n",
      "ruamel_yaml               0.15.37          py36h1de35cc_2  \r\n",
      "scikit-image              0.14.0           py36h0a44026_1  \r\n",
      "scipy                     1.1.0            py36hf1f7d93_0  \r\n",
      "send2trash                1.5.0                    py36_0  \r\n",
      "setuptools                39.2.0                   py36_0  \r\n",
      "simplegeneric             0.8.1                    py36_2  \r\n",
      "sip                       4.19.8           py36h0a44026_0  \r\n",
      "six                       1.11.0           py36h0e22d5e_1  \r\n",
      "sqlite                    3.23.1               hf1716c9_0  \r\n",
      "terminado                 0.8.1                    py36_1  \r\n",
      "testpath                  0.3.1            py36h625a49b_0  \r\n",
      "tk                        8.6.7                h35a86e2_3  \r\n",
      "toolz                     0.9.0                    py36_0  \r\n",
      "tornado                   5.0.2            py36h1de35cc_0  \r\n",
      "traitlets                 4.3.2            py36h65bd3ce_0  \r\n",
      "urllib3                   1.22             py36h68b9469_0  \r\n",
      "urwid                     1.3.1                    py36_0    conda-forge\r\n",
      "wcwidth                   0.1.7            py36h8c6ec74_0  \r\n",
      "webencodings              0.5.1                    py36_1  \r\n",
      "wheel                     0.31.1                   py36_0  \r\n",
      "widgetsnbextension        3.3.1                    py36_0  \r\n",
      "xz                        5.2.4                h1de35cc_4  \r\n",
      "yaml                      0.1.7                hc338f04_2  \r\n",
      "zeromq                    4.2.5                h0a44026_0  \r\n",
      "zlib                      1.2.11               hf3cbc9b_2  \r\n"
     ]
    }
   ],
   "source": [
    "!conda list"
   ]
  },
  {
   "cell_type": "markdown",
   "metadata": {},
   "source": [
    "If you see a list of installation packages, your installation of conda should be succceeded.\n",
    "Then, let's run the commend below again"
   ]
  },
  {
   "cell_type": "code",
   "execution_count": 12,
   "metadata": {},
   "outputs": [
    {
     "name": "stdout",
     "output_type": "stream",
     "text": [
      "Python 3.6.5 :: Anaconda, Inc.\r\n"
     ]
    }
   ],
   "source": [
    "!python --version"
   ]
  },
  {
   "cell_type": "markdown",
   "metadata": {},
   "source": [
    "If you see the version Python 3.X, your python environment becomes ready."
   ]
  },
  {
   "cell_type": "markdown",
   "metadata": {},
   "source": [
    "## Install the necessary python modules"
   ]
  },
  {
   "cell_type": "markdown",
   "metadata": {},
   "source": [
    "There are some python modules necessary for Hypercat. Here is the list of the packages\n",
    "* numpy \n",
    "* scipy \n",
    "* matplotlib \n",
    "* jupyter \n",
    "* astropy\n",
    "* h5py\n",
    "* scikit-image\n",
    "* urwid\n",
    "\n",
    "Please check your python modules contain the packages above. If not, let's install them.\n",
    "If you have conda, it can be done easily by running the two lines below"
   ]
  },
  {
   "cell_type": "markdown",
   "metadata": {},
   "source": [
    "```\n",
    "conda install scipy matplotlib jupyter astropy h5py scikit-image\n",
    "conda install -c conda-forge urwid\n",
    "```"
   ]
  },
  {
   "cell_type": "markdown",
   "metadata": {},
   "source": [
    "## Get the Hypercat code\n",
    "Hypercat code is available https://github.com/rnikutta/hypercat\n",
    "\n",
    "```\n",
    "git clone https://github.com/rnikutta/hypercat.git\n",
    "```"
   ]
  },
  {
   "cell_type": "markdown",
   "metadata": {},
   "source": [
    "## Download and unpack hypercube of models\n",
    "This is a little tough"
   ]
  },
  {
   "cell_type": "code",
   "execution_count": null,
   "metadata": {},
   "outputs": [],
   "source": []
  },
  {
   "cell_type": "code",
   "execution_count": null,
   "metadata": {},
   "outputs": [],
   "source": []
  }
 ],
 "metadata": {
  "kernelspec": {
   "display_name": "Python 3",
   "language": "python",
   "name": "python3"
  },
  "language_info": {
   "codemirror_mode": {
    "name": "ipython",
    "version": 3
   },
   "file_extension": ".py",
   "mimetype": "text/x-python",
   "name": "python",
   "nbconvert_exporter": "python",
   "pygments_lexer": "ipython3",
   "version": "3.6.5"
  }
 },
 "nbformat": 4,
 "nbformat_minor": 2
}
