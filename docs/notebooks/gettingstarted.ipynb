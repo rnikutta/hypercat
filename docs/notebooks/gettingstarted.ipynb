{
 "cells": [
  {
   "cell_type": "code",
   "execution_count": 1,
   "metadata": {},
   "outputs": [],
   "source": [
    "__version__ = '20180807' #Revised version\n",
    "#__version__ = '20180806' #Launched version"
   ]
  },
  {
   "cell_type": "markdown",
   "metadata": {},
   "source": [
    "# Getting started Hypercat"
   ]
  },
  {
   "cell_type": "markdown",
   "metadata": {},
   "source": [
    "## Table of contents\n",
    "- Install Python environment\n",
    "- get the Hypercat code from github\n",
    "- download and unpack hypercube of models"
   ]
  },
  {
   "cell_type": "markdown",
   "metadata": {},
   "source": [
    "## Check your current Python environment"
   ]
  },
  {
   "cell_type": "markdown",
   "metadata": {},
   "source": [
    "Hypercat requires the Python environment: Python 3.X.  \n",
    "First let's check your version of Python,"
   ]
  },
  {
   "cell_type": "markdown",
   "metadata": {},
   "source": [
    "``` shell\n",
    "foo/>python --version\n",
    "```\n",
    "```\n",
    "Python 3.6.5 :: Anaconda, Inc.\n",
    "```"
   ]
  },
  {
   "cell_type": "markdown",
   "metadata": {},
   "source": [
    "If the result is Python 3.X, please move to the **Install the necessary python module** Section, if not, let's move to **Install Python 3** Section and prepare the Python 3 environment."
   ]
  },
  {
   "cell_type": "markdown",
   "metadata": {},
   "source": [
    "## Install Python 3"
   ]
  },
  {
   "cell_type": "markdown",
   "metadata": {},
   "source": [
    "There are several ways to install python environment. Our recommendation is using Conda. [The official website](https://conda.io/docs/user-guide/tasks/manage-python.html) describes Conda like this:\n",
    ">Conda treats Python the same as any other package, so it is easy to manage and update multiple installations."
   ]
  },
  {
   "cell_type": "markdown",
   "metadata": {},
   "source": [
    "Please follow the installation guide of Python 3.X at [Anaconda](https://www.anaconda.com/download) or [Miniconda](https://conda.io/miniconda.html) based on your preference. Please check the comparison of Anaconda and Miniconda [here](https://conda.io/docs/user-guide/install/download.html)."
   ]
  },
  {
   "cell_type": "markdown",
   "metadata": {},
   "source": [
    "After the installation, please check the test your installation. In your Terminal, run the command"
   ]
  },
  {
   "cell_type": "markdown",
   "metadata": {},
   "source": [
    "```shell\n",
    "foo/>conda env list\n",
    "```\n",
    "```\n",
    "# conda environments:\n",
    "#\n",
    "base                  *  /Username/miniconda3\n",
    "```"
   ]
  },
  {
   "cell_type": "markdown",
   "metadata": {},
   "source": [
    "The asterisk is your current conda environment, if the asterisk is at your (mini)conda3, your installation of python 3 is succeeded. Then, let's run the command below again."
   ]
  },
  {
   "cell_type": "markdown",
   "metadata": {},
   "source": [
    "```shell\n",
    "foo/>python --version\n",
    "```\n",
    "```\n",
    "Python 3.6.5 :: Anaconda, Inc.\n",
    "```"
   ]
  },
  {
   "cell_type": "markdown",
   "metadata": {},
   "source": [
    "If you see the version Python 3.X, your python environment becomes ready."
   ]
  },
  {
   "cell_type": "markdown",
   "metadata": {},
   "source": [
    "## Install the necessary python modules"
   ]
  },
  {
   "cell_type": "markdown",
   "metadata": {},
   "source": [
    "There are some python modules necessary for Hypercat. Here is the list of the packages\n",
    "* numpy \n",
    "* scipy \n",
    "* matplotlib \n",
    "* jupyter \n",
    "* astropy\n",
    "* h5py\n",
    "* scikit-image\n",
    "* urwid\n",
    "\n",
    "Please check whether your python environment contains the modules above. If not, let's install them.\n",
    "If you have conda, it can be done easily by running the two lines below"
   ]
  },
  {
   "cell_type": "markdown",
   "metadata": {},
   "source": [
    "``` shell\n",
    "foo/>conda install scipy matplotlib jupyter astropy h5py scikit-image\n",
    "foo/>conda install -c conda-forge urwid\n",
    "```"
   ]
  },
  {
   "cell_type": "markdown",
   "metadata": {},
   "source": [
    "## Get the Hypercat code\n",
    "Hypercat code is available at https://github.com/rnikutta/hypercat. To obtain the code, let's run the commend below.\n",
    "\n",
    "```\n",
    "foo/>git clone https://github.com/rnikutta/hypercat.git\n",
    "```\n",
    "\n"
   ]
  },
  {
   "cell_type": "markdown",
   "metadata": {},
   "source": [
    "## Download and unpack hypercube of models\n",
    "This must be a tough road for most of the (future) users, but if you are interested in using the hypercat, the hypercat model called **Hypercube** is also necessary to download. The hypercube is a large hdf5 file with the size of **207GB (gziped)** or **670GB (unziped)**. To download the Hypercube, please first make sure that you have the disk space.  \n",
    "To reduce the peak amount of storage required on the computer, both steps can be executed in one go (all commands in a single line). To run the commands, the program `lftp` must be installed on the target system and 670GB of space must be available on it."
   ]
  },
  {
   "cell_type": "markdown",
   "metadata": {},
   "source": [
    "```shell\n",
    "foo/>lftp -e ’set net:timeout 10; cat /pub/nikutta/hypercat/hypercat_20180417.hdf5.gz; bye’ ftp.noao.edu | gunzip > hypercat_20180417.hdf5\n",
    "```\n",
    "\n",
    "It would take (a long amount of) time.\n",
    "If you need the program `lftp`, using `brew` would be helpful.\n",
    "```\n",
    "foo/>brew install lftp\n",
    "```"
   ]
  },
  {
   "cell_type": "markdown",
   "metadata": {},
   "source": [
    "To check whether the downloading completed properly, let's also download the checksums file ftp://ftp.noao.edu/pub/nikutta/hypercat/hypercat_20180417.md5 file and compare its content with the output of\n",
    "md5sum hypercat_20180417.hdf5.\n",
    "\n",
    "```shell\n",
    "foo/>wget ftp://ftp.noao.edu/pub/nikutta/hypercat/hypercat_20180417.md5\n",
    "```\n",
    "\n",
    "```shell\n",
    "foo/>md5sum hypercat_20180417.hdf5\n",
    "c3de861d1ff66e01beac3b56e88f19a2\n",
    "```\n",
    "this can also take a while. The download was successful if the computed checksum is identical to the one in the `.md5` sums file."
   ]
  },
  {
   "cell_type": "markdown",
   "metadata": {},
   "source": [
    "If the value is identical, now you are ready!! Let's move to **hypercatbasics** notebook."
   ]
  },
  {
   "cell_type": "code",
   "execution_count": null,
   "metadata": {},
   "outputs": [],
   "source": []
  }
 ],
 "metadata": {
  "kernelspec": {
   "display_name": "Python 3",
   "language": "python",
   "name": "python3"
  },
  "language_info": {
   "codemirror_mode": {
    "name": "ipython",
    "version": 3
   },
   "file_extension": ".py",
   "mimetype": "text/x-python",
   "name": "python",
   "nbconvert_exporter": "python",
   "pygments_lexer": "ipython3",
   "version": "3.6.5"
  }
 },
 "nbformat": 4,
 "nbformat_minor": 2
}
