{
 "cells": [
  {
   "cell_type": "code",
   "execution_count": null,
   "metadata": {},
   "outputs": [],
   "source": [
    "__version__ = '20180807' #Revised version\n",
    "#__version__ = '20180806' #Launched version"
   ]
  },
  {
   "cell_type": "code",
   "execution_count": 6,
   "metadata": {},
   "outputs": [],
   "source": [
    "# std. lib\n",
    "import sys\n",
    "sys.path.append('../../../hypercat/hypercat/')\n",
    "\n",
    "# 3rd party\n",
    "import pylab as plt\n",
    "\n",
    "# hypercat\n",
    "import hypercat\n",
    "import plotting\n",
    "import bigfileops as bfo\n",
    "import ioops\n",
    "import interferometry"
   ]
  },
  {
   "cell_type": "code",
   "execution_count": 7,
   "metadata": {},
   "outputs": [
    {
     "name": "stdout",
     "output_type": "stream",
     "text": [
      "Opening HDF5 file: /Volumes/Seagate Backup Plus Drive/hypercat/hypercat_20180417.hdf5 \n",
      "Loading sampling parameters.\n",
      "Closing HDF5 file.\n",
      "Loading  hypercube 'imgdata' [shape: (5,10,16,12,5,7,19,121,241)] to RAM (693.51 GB required) ...\n",
      "Inspect the loaded hypercube with .print_sampling()\n",
      "\n",
      "-------------------------------------------------------\n",
      "Parameter  Range                Nvalues  Sampled values\n",
      "-------------------------------------------------------\n",
      "\u001b[1m sig*    [ 15.000 -  75.000]  (  5)    15.000, 30.000, 45.000, 60.000, 75.000\u001b[0m\n",
      "\u001b[1m   i*    [  0.000 -  90.000]  ( 10)     0.000, 10.000, 20.000, 30.000, 40.000, 50.000, 60.000, 70.000, 80.000, 90.000\u001b[0m\n",
      "\u001b[1m   Y*    [  5.000 -  20.000]  ( 16)     5.000,  6.000,  7.000,  8.000,  9.000, 10.000, 11.000, 12.000, 13.000, 14.000, 15.000, ...\u001b[0m\n",
      "\u001b[1m   N*    [  1.000 -  12.000]  ( 12)     1.000,  2.000,  3.000,  4.000,  5.000,  6.000,  7.000,  8.000,  9.000, 10.000, 11.000, ...\u001b[0m\n",
      "\u001b[1m   q*    [  0.000 -   2.000]  (  5)     0.000,  0.500,  1.000,  1.500,  2.000\u001b[0m\n",
      "\u001b[1m  tv*    [ 10.000 - 160.000]  (  7)    10.000, 20.000, 40.000, 60.000, 80.000,120.000,160.000\u001b[0m\n",
      "\u001b[1mwave*    [  1.200 - 870.000]  ( 19)     1.200,  2.200,  3.500,  4.800,  8.700,  9.300,  9.800, 10.000, 10.300, 10.600, 11.300, ...\u001b[0m\n",
      "   x     [  0.000 - 120.000]  (121)     0.000,  1.000,  2.000,  3.000,  4.000,  5.000,  6.000,  7.000,  8.000,  9.000, 10.000, ...\n",
      "   y     [  0.000 - 240.000]  (241)     0.000,  1.000,  2.000,  3.000,  4.000,  5.000,  6.000,  7.000,  8.000,  9.000, 10.000, ...\n",
      "-------------------------------------------------------\n",
      "Parameters printed in \u001b[1mbold\u001b[0m and/or marked with an asterisk (*) are interpolable.\n",
      "Hypercube size: 693.514 (GB)\n"
     ]
    }
   ],
   "source": [
    "###----------------HDF file dir-------------------###\n",
    "#hdffile = '/YOUR_HDF_FILEPATH/hypercat_20180417.hdf5'\n",
    "hdffile = '/Volumes/Seagate Backup Plus Drive/hypercat/hypercat_20180417.hdf5'\n",
    "imgcube = hypercat.ModelCube(hdffile, hypercube='imgdata', subcube_selection='minimal')"
   ]
  },
  {
   "cell_type": "code",
   "execution_count": 50,
   "metadata": {},
   "outputs": [],
   "source": [
    "#sig, i, Y, N, q, tv, wave = 43, 55, 18, 4, 0.08, 70, 12.0  # example parameters, here e.g. for NGC1068 from Lopez-Rodriguez+2018\n",
    "sig, i, Y, N, q, tv, wave = 43, 55, 18, 4, 0.08, 70, 12.05\n",
    "vec = (sig, i, Y, N, q, tv, wave) #The order of the parameter set is also important...\n",
    "#list of the parameters\n",
    "Lbol = '1.6e45 erg/s' #the unit Lsun is also available. Is is used only for calculating dust sublimation radius\n",
    "D = '14.4 Mpc'\n",
    "PA = '-42 deg' #PA is optional\n",
    "objectname = 'ngc1068' #objectname is optional"
   ]
  },
  {
   "cell_type": "code",
   "execution_count": 51,
   "metadata": {},
   "outputs": [
    {
     "name": "stdout",
     "output_type": "stream",
     "text": [
      "Loading a subcube of 14.2388 MB into RAM.\n",
      "Squeezing all dim-1 axes...\n",
      "Instantiating n-dim interpolation object ...\n",
      "Done.\n",
      "Rotated image (see self.data) by -42.0 deg in direction 'NE'.\n",
      "Coordinates for source 'ngc1068' resolved. WCS created.\n",
      "Plotting panel (0,0)\n"
     ]
    },
    {
     "data": {
      "text/plain": [
       "(<matplotlib.figure.Figure at 0x10e0e3358>,\n",
       " array([[<matplotlib.axes._subplots.AxesSubplot object at 0x10f9f3a58>]],\n",
       "       dtype=object))"
      ]
     },
     "execution_count": 51,
     "metadata": {},
     "output_type": "execute_result"
    },
    {
     "data": {
      "image/png": "[encoded data removed]",
      "text/plain": [
       "<matplotlib.figure.Figure at 0x10e0e3358>"
      ]
     },
     "metadata": {},
     "output_type": "display_data"
    }
   ],
   "source": [
    "ngc1068 = hypercat.Source(imgcube,luminosity=Lbol,distance=D,pa=PA,objectname=objectname)\n",
    "sky = ngc1068(vec,total_flux_density='6.193 Jy')\n",
    "plotting.multiplot(sky)"
   ]
  },
  {
   "cell_type": "markdown",
   "metadata": {},
   "source": [
    "# Interferometric observations"
   ]
  },
  {
   "cell_type": "code",
   "execution_count": 52,
   "metadata": {},
   "outputs": [],
   "source": [
    "oifilename = 'NGC1068.oifits' #from Burtscher+13 "
   ]
  },
  {
   "cell_type": "code",
   "execution_count": 53,
   "metadata": {},
   "outputs": [
    {
     "name": "stdout",
     "output_type": "stream",
     "text": [
      "Pixel scale in FFT image is:  8.538149682454613  m (Baseline) per pixel\n"
     ]
    }
   ],
   "source": [
    "#Create 2D FFT of clumpy torus image\n",
    "ori_fft = interferometry.ima2fft(sky)\n",
    "#Obtain pixel scale\n",
    "fftscale = interferometry.fft_pxscale(sky)\n",
    "#Obtain observational data from oifile\n",
    "u,v, cf, cferr, pa_obs, paerrr_obs, \\\n",
    "amp_obs, amperr_obs, wave = interferometry.uvload(oifilename)\n",
    "#obsertain corrflux from observations from Burtscher+13 \n",
    "wave_cut =  12.05 #in microns\n",
    "cf_obs, cferr_obs = interferometry.getObsPerWave(u[:32],v[:32],cf,cferr,wave,wave_cut)\n",
    "#Obtain correlated flux from Synthetic observations usong CLUMPY images\n",
    "corrflux, BL, Phi = interferometry.correlatedflux(ori_fft,u,v)\n",
    "#obtain image fom fft\n",
    "ori_ifft = interferometry.ima_ifft(ori_fft,u,v)"
   ]
  },
  {
   "cell_type": "code",
   "execution_count": 61,
   "metadata": {},
   "outputs": [
    {
     "data": {
      "text/plain": [
       "[<matplotlib.lines.Line2D at 0x11059f4a8>]"
      ]
     },
     "execution_count": 61,
     "metadata": {},
     "output_type": "execute_result"
    },
    {
     "data": {
      "image/png": "[encoded data removed]",
      "text/plain": [
       "<matplotlib.figure.Figure at 0x1103e7f98>"
      ]
     },
     "metadata": {},
     "output_type": "display_data"
    }
   ],
   "source": [
    "import numpy as np\n",
    "\n",
    "\n",
    "BBL = BL[:32]\n",
    "#print(cf_obs.shape)\n",
    "idx = np.argsort(BBL)\n",
    "\n",
    "fig, ax0 = plt.subplots(1,1,figsize=(7,5))\n",
    "ax0.plot(BBL[idx],corrflux[idx]+1.,'o-',color='black',label='42 deg')\n",
    "#ax0.plot(BBL[idx],corrflux0[idx],'s',color='blue',label='0 deg')\n",
    "#ax0.plot(BBL[idx],corrflux42[idx],'x',color='red',label='-42 deg')\n",
    "ax0.errorbar(BBL[idx],cf_obs[idx[:32]],yerr=cferr_obs,fmt='o',color='orange',label='obs')\n",
    "\n",
    "ax0.legend()\n",
    "ax0.set_yscale('log')\n",
    "ax0.set_ylim([0.01,25])\n",
    "\n",
    "\n",
    "plt.plot(BL2,corrflux2+1.,'-',color='blue')"
   ]
  },
  {
   "cell_type": "code",
   "execution_count": 35,
   "metadata": {},
   "outputs": [],
   "source": [
    "uu = np.linspace(np.abs(v).min(),np.max(u),200)\n",
    "vv = np.linspace(np.abs(v).min(),np.max(v),200)\n",
    "corrflux2, BL2, Phi2 = interferometry.correlatedflux(ori_fft,uu,vv)"
   ]
  },
  {
   "cell_type": "code",
   "execution_count": 62,
   "metadata": {},
   "outputs": [
    {
     "data": {
      "text/plain": [
       "115.62560272216797"
      ]
     },
     "execution_count": 62,
     "metadata": {},
     "output_type": "execute_result"
    }
   ],
   "source": [
    "9.56 mas, 0.6 pc"
   ]
  },
  {
   "cell_type": "code",
   "execution_count": null,
   "metadata": {},
   "outputs": [],
   "source": []
  }
 ],
 "metadata": {
  "kernelspec": {
   "display_name": "Python 3",
   "language": "python",
   "name": "python3"
  },
  "language_info": {
   "codemirror_mode": {
    "name": "ipython",
    "version": 3
   },
   "file_extension": ".py",
   "mimetype": "text/x-python",
   "name": "python",
   "nbconvert_exporter": "python",
   "pygments_lexer": "ipython3",
   "version": "3.6.6"
  }
 },
 "nbformat": 4,
 "nbformat_minor": 2
}
